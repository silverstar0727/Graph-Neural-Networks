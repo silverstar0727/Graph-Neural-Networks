{
  "nbformat": 4,
  "nbformat_minor": 0,
  "metadata": {
    "kernelspec": {
      "display_name": "Python 3",
      "language": "python",
      "name": "python3"
    },
    "language_info": {
      "codemirror_mode": {
        "name": "ipython",
        "version": 3
      },
      "file_extension": ".py",
      "mimetype": "text/x-python",
      "name": "python",
      "nbconvert_exporter": "python",
      "pygments_lexer": "ipython3",
      "version": "3.7.3"
    },
    "colab": {
      "name": "Colab0",
      "provenance": [],
      "collapsed_sections": [],
      "machine_shape": "hm",
      "include_colab_link": true
    }
  },
  "cells": [
    {
      "cell_type": "markdown",
      "metadata": {
        "id": "view-in-github",
        "colab_type": "text"
      },
      "source": [
        "<a href=\"https://colab.research.google.com/github/silverstar0727/Graph-Neural-Networks/blob/main/Labs/Colab0.ipynb\" target=\"_parent\"><img src=\"https://colab.research.google.com/assets/colab-badge.svg\" alt=\"Open In Colab\"/></a>"
      ]
    },
    {
      "cell_type": "markdown",
      "metadata": {
        "id": "CJrV9FgFpe9x"
      },
      "source": [
        "# **CS224W - Colab 0**\n",
        "\n",
        "- 원본: http://web.stanford.edu/class/cs224w/\n",
        "- 번역: https://github.com/silverstar0727\n",
        "\n",
        "그래프 마이닝과 GNN의 기초적인 컨셉과 친숙해지기 위한 노트북이다.\n",
        "\n",
        "해당 노트북은 NetworkX와 Pytorch geometric의 라이브러리를 사용하고, 아직 PyG의 모든 내용을 이해하지 못해도 앞으로 다룰 노트북에서 점차 알아가면 된다."
      ]
    },
    {
      "cell_type": "markdown",
      "metadata": {
        "id": "8gzsP50bF6Gb"
      },
      "source": [
        "\n",
        "# NetworkX Tutorial\n",
        "\n",
        "NetworkX는 그래프 마이닝이나 그래프 조작에서 흔히 쓰이는 툴이다. 이 튜토리얼에서 쓰인 코드는 아래의 링크를 참고하였다.\n",
        "\n",
        "https://colab.research.google.com/github/jdwittenauer/ipython-notebooks/blob/master/notebooks/libraries/NetworkX.ipynb#scrollTo=zA1OO6huHeV6"
      ]
    },
    {
      "cell_type": "markdown",
      "metadata": {
        "id": "Nwwq0nSdmsOL"
      },
      "source": [
        "## Setup"
      ]
    },
    {
      "cell_type": "code",
      "metadata": {
        "id": "QeqN7MHvH1OA"
      },
      "source": [
        "# NetworkX 패키지 임포트하기\n",
        "import networkx as nx"
      ],
      "execution_count": 44,
      "outputs": []
    },
    {
      "cell_type": "markdown",
      "metadata": {
        "id": "MCIeGAfLfAMK"
      },
      "source": [
        "## Graph\n",
        "\n",
        "NetworkX는 유향, 무향 등의 그래프 타입을 저장하기 위한 다양한 클래스를 제공한다. 또한, 멀티 두가지를 포함한 멀티그래프 클래스도 제공한다.\n",
        "\n",
        "구체적인 정보는 다음의 링크를 참고하자.\n",
        "[NetworkX graph types](https://networkx.org/documentation/stable/reference/classes/index.html)."
      ]
    },
    {
      "cell_type": "code",
      "metadata": {
        "id": "qSI_n6P-e0PW",
        "colab": {
          "base_uri": "https://localhost:8080/"
        },
        "outputId": "68592930-1d23-454c-b5a1-59926054fb8c"
      },
      "source": [
        "# 무방향 그래프 G 생성\n",
        "G = nx.Graph()\n",
        "print(G.is_directed()) # 그래프의 타입 확인\n",
        "\n",
        "# 유향 그래프 H 생성\n",
        "H = nx.DiGraph()\n",
        "print(H.is_directed()) # 그래프의 타입 확인\n",
        "\n",
        "# 그래프의 속성을 추가하기\n",
        "G.graph[\"Name\"] = \"Bar\" # 딕셔너리에 데이터를 저장하는 것과 동일\n",
        "print(G.graph)"
      ],
      "execution_count": 45,
      "outputs": [
        {
          "output_type": "stream",
          "name": "stdout",
          "text": [
            "False\n",
            "True\n",
            "{'Name': 'Bar'}\n"
          ]
        }
      ]
    },
    {
      "cell_type": "markdown",
      "metadata": {
        "id": "x0pLs0-Ka9j8"
      },
      "source": [
        "## Node\n",
        "\n",
        "Node를 속성과 함께 그래프에 추가하기"
      ]
    },
    {
      "cell_type": "code",
      "metadata": {
        "colab": {
          "base_uri": "https://localhost:8080/"
        },
        "id": "SgVxUJ_lrcx6",
        "outputId": "f7a10e35-0547-4fff-bbd8-1f53429fe342"
      },
      "source": [
        "help(G.add_node)"
      ],
      "execution_count": 46,
      "outputs": [
        {
          "output_type": "stream",
          "name": "stdout",
          "text": [
            "Help on method add_node in module networkx.classes.graph:\n",
            "\n",
            "add_node(node_for_adding, **attr) method of networkx.classes.graph.Graph instance\n",
            "    Add a single node `node_for_adding` and update node attributes.\n",
            "    \n",
            "    Parameters\n",
            "    ----------\n",
            "    node_for_adding : node\n",
            "        A node can be any hashable Python object except None.\n",
            "    attr : keyword arguments, optional\n",
            "        Set or change node attributes using key=value.\n",
            "    \n",
            "    See Also\n",
            "    --------\n",
            "    add_nodes_from\n",
            "    \n",
            "    Examples\n",
            "    --------\n",
            "    >>> G = nx.Graph()  # or DiGraph, MultiGraph, MultiDiGraph, etc\n",
            "    >>> G.add_node(1)\n",
            "    >>> G.add_node(\"Hello\")\n",
            "    >>> K3 = nx.Graph([(0, 1), (1, 2), (2, 0)])\n",
            "    >>> G.add_node(K3)\n",
            "    >>> G.number_of_nodes()\n",
            "    3\n",
            "    \n",
            "    Use keywords set/change node attributes:\n",
            "    \n",
            "    >>> G.add_node(1, size=10)\n",
            "    >>> G.add_node(3, weight=0.4, UTM=(\"13S\", 382871, 3972649))\n",
            "    \n",
            "    Notes\n",
            "    -----\n",
            "    A hashable object is one that can be used as a key in a Python\n",
            "    dictionary. This includes strings, numbers, tuples of strings\n",
            "    and numbers, etc.\n",
            "    \n",
            "    On many platforms hashable items also include mutables such as\n",
            "    NetworkX Graphs, though one should be careful that the hash\n",
            "    doesn't change on mutables.\n",
            "\n"
          ]
        }
      ]
    },
    {
      "cell_type": "code",
      "metadata": {
        "id": "jQ8ApAL5H1GB",
        "colab": {
          "base_uri": "https://localhost:8080/"
        },
        "outputId": "97c87d24-386c-4b81-bfbd-001f5ce2c876"
      },
      "source": [
        "# 하나의 노드의 속성과 함께 추가하기\n",
        "G.add_node(0, feature=5, label=0) # node와 속성을 전달함. 이때의 이름을 제외한 나머지 인자는 dictionary형태로 노드의 속성이 됨. (아래에서확인)\n",
        "\n",
        "# 노드 0의 속성 얻기\n",
        "node_0_attr = G.nodes[0]\n",
        "print(\"Node 0 has the attributes {}\".format(node_0_attr))"
      ],
      "execution_count": 47,
      "outputs": [
        {
          "output_type": "stream",
          "name": "stdout",
          "text": [
            "Node 0 has the attributes {'feature': 5, 'label': 0}\n"
          ]
        }
      ]
    },
    {
      "cell_type": "code",
      "metadata": {
        "id": "btOdMYqJaKia",
        "colab": {
          "base_uri": "https://localhost:8080/"
        },
        "outputId": "4e96cece-62b3-4d25-f7c7-4804322f3779"
      },
      "source": [
        "# 속성과 함께 여러개의 노드 추가\n",
        "G.add_nodes_from([\n",
        "  (1, {\"feature\": 1, \"label\": 1}),\n",
        "  (2, {\"feature\": 2, \"label\": 2})\n",
        "]) # add_nodes_from 메서드를 사용하고 인자로 list내부 (node, attrdict)의 튜플 형태로 전달\n",
        "\n",
        "# for문으로 그래프를 iterable하게 사용할 수 있음.\n",
        "for node in G.nodes(data=True): # data=True: 속성을 함께 반환함\n",
        "  print(node)\n",
        "\n",
        "# 노드의 개수를 얻을 수 있음\n",
        "num_nodes = G.number_of_nodes()\n",
        "print(\"G has {} nodes\".format(num_nodes))"
      ],
      "execution_count": 48,
      "outputs": [
        {
          "output_type": "stream",
          "name": "stdout",
          "text": [
            "(0, {'feature': 5, 'label': 0})\n",
            "(1, {'feature': 1, 'label': 1})\n",
            "(2, {'feature': 2, 'label': 2})\n",
            "G has 3 nodes\n"
          ]
        }
      ]
    },
    {
      "cell_type": "markdown",
      "metadata": {
        "id": "0AdoaZPgbRis"
      },
      "source": [
        "## Edge\n",
        "\n",
        "노드와 비슷하게 edge역시 속성과 함께 추가가 가능"
      ]
    },
    {
      "cell_type": "code",
      "metadata": {
        "id": "0szH5F6EH079",
        "colab": {
          "base_uri": "https://localhost:8080/"
        },
        "outputId": "23598287-ac90-4311-a180-b408f47f9651"
      },
      "source": [
        "# weight=0.5 속성을 갖도록 노드 0과 1사이의 엣지를 만들어 줌\n",
        "G.add_edge(0, 1, weight=0.5)\n",
        "\n",
        "# (0, 1) 엣지의 속성을 얻기\n",
        "edge_0_1_attr = G.edges[(0, 1)]\n",
        "print(\"Edge (0, 1) has the attributes {}\".format(edge_0_1_attr))"
      ],
      "execution_count": 49,
      "outputs": [
        {
          "output_type": "stream",
          "name": "stdout",
          "text": [
            "Edge (0, 1) has the attributes {'weight': 0.5}\n"
          ]
        }
      ]
    },
    {
      "cell_type": "code",
      "metadata": {
        "id": "QRTmi4EUaf_I",
        "colab": {
          "base_uri": "https://localhost:8080/"
        },
        "outputId": "607c7621-759f-461d-a17d-2dae1fa6fa82"
      },
      "source": [
        "# 여러 엣지를 속성과 함께 추가하기\n",
        "G.add_edges_from([\n",
        "  (1, 2, {\"weight\": 0.3}),\n",
        "  (2, 0, {\"weight\": 0.1})\n",
        "])\n",
        "\n",
        "# 노드와 마찬가지로 반복 가능.\n",
        "for edge in G.edges(): # data=True를 추가하면 속성을 함께 반환\n",
        "  print(edge)\n",
        "\n",
        "# 엣지의 개수 반환\n",
        "num_edges = G.number_of_edges()\n",
        "print(\"G has {} edges\".format(num_edges))"
      ],
      "execution_count": 50,
      "outputs": [
        {
          "output_type": "stream",
          "name": "stdout",
          "text": [
            "(0, 1)\n",
            "(0, 2)\n",
            "(1, 2)\n",
            "G has 3 edges\n"
          ]
        }
      ]
    },
    {
      "cell_type": "markdown",
      "metadata": {
        "id": "9u1Utjn4bc7k"
      },
      "source": [
        "## Visualization"
      ]
    },
    {
      "cell_type": "code",
      "metadata": {
        "id": "lykPzFOEahuP",
        "colab": {
          "base_uri": "https://localhost:8080/",
          "height": 319
        },
        "outputId": "0696ccb9-d71f-4e16-fbc2-385fef5da22f"
      },
      "source": [
        "# 그래프 그리기\n",
        "nx.draw(G, \n",
        "        with_labels = True) # label을 함께 그리기"
      ],
      "execution_count": 51,
      "outputs": [
        {
          "output_type": "display_data",
          "data": {
            "image/png": "[encoded data removed]",
            "text/plain": [
              "<Figure size 432x288 with 1 Axes>"
            ]
          },
          "metadata": {}
        }
      ]
    },
    {
      "cell_type": "markdown",
      "metadata": {
        "id": "_Q6YTP2FDbOS"
      },
      "source": [
        "## Node Degree and Neighbor"
      ]
    },
    {
      "cell_type": "code",
      "metadata": {
        "id": "GFA3B6Z_DE3q",
        "colab": {
          "base_uri": "https://localhost:8080/"
        },
        "outputId": "e0f160a9-7432-426e-c921-dbd4a0f5fa1c"
      },
      "source": [
        "node_id = 1\n",
        "\n",
        "# 개별 노드에 대한 degree를 확인할 수 있음\n",
        "print(\"Node {} has degree {}\".format(node_id, G.degree[node_id]))\n",
        "\n",
        "# 개별 노드에 대한 이웃노드를 for-loop으로 얻을 수 있음.\n",
        "for neighbor in G.neighbors(node_id):\n",
        "  print(\"Node {} has neighbor {}\".format(node_id, neighbor))"
      ],
      "execution_count": 52,
      "outputs": [
        {
          "output_type": "stream",
          "name": "stdout",
          "text": [
            "Node 1 has degree 2\n",
            "Node 1 has neighbor 0\n",
            "Node 1 has neighbor 2\n"
          ]
        }
      ]
    },
    {
      "cell_type": "markdown",
      "metadata": {
        "id": "4gVRVckZeSdA"
      },
      "source": [
        "## Other Functionalities\n",
        "\n",
        "NetworkX는 그래프를 다루는 많은 유용한 메서드를 제공한다. 대표적으로 PageRank를 사용해보자. \n",
        "\n",
        "구체적인 문서는 다음을 참고하자. [PageRank](https://networkx.org/documentation/stable/reference/algorithms/generated/networkx.algorithms.link_analysis.pagerank_alg.pagerank.html#networkx.algorithms.link_analysis.pagerank_alg.pagerank)"
      ]
    },
    {
      "cell_type": "code",
      "metadata": {
        "id": "_gZfQ82Wiuvv",
        "colab": {
          "base_uri": "https://localhost:8080/",
          "height": 387
        },
        "outputId": "3ab87695-e1d5-411c-8e8a-006b18d158a1"
      },
      "source": [
        "# 새로운 유향 그래프를 만들기, 이때의 각노드는 순차적으로 앞선 index의 노드만을 가리키도록 초기화된다.\n",
        "num_nodes = 4\n",
        "G = nx.DiGraph(nx.path_graph(num_nodes))\n",
        "nx.draw(G, with_labels = True)\n",
        "\n",
        "# PageRank알고리즘으로부터 score를 얻기\n",
        "pr = nx.pagerank(G, alpha=0.8)\n",
        "pr"
      ],
      "execution_count": 53,
      "outputs": [
        {
          "output_type": "execute_result",
          "data": {
            "text/plain": [
              "{0: 0.17857162031103999,\n",
              " 1: 0.32142837968896,\n",
              " 2: 0.32142837968896,\n",
              " 3: 0.17857162031103999}"
            ]
          },
          "metadata": {},
          "execution_count": 53
        },
        {
          "output_type": "display_data",
          "data": {
            "image/png": "[encoded data removed]",
            "text/plain": [
              "<Figure size 432x288 with 1 Axes>"
            ]
          },
          "metadata": {}
        }
      ]
    },
    {
      "cell_type": "markdown",
      "metadata": {
        "id": "RrIFCJnlvGkg"
      },
      "source": [
        "## Documentation"
      ]
    },
    {
      "cell_type": "markdown",
      "metadata": {
        "id": "_7PBwhIKu3et"
      },
      "source": [
        "더 많은 정보들은 도큐먼트를 참고하자. [documentation](https://networkx.org/documentation/stable/)."
      ]
    },
    {
      "cell_type": "markdown",
      "metadata": {
        "id": "MDcCjrW3JWzG"
      },
      "source": [
        "# PyTorch Geometric Tutorial\n",
        "\n",
        "PyG는 Pytorch의 확장 라이브러리로 GNN 모델을 개발하기 위해서 유용하게 사용된다. 많은 기초적인 layer와 벤치마크 데이터셋을 가지고 있다.\n",
        "\n",
        "이 튜토리얼은  [Matthias Fey](https://rusty1s.github.io/#/)의 [colab](https://colab.research.google.com/drive/1h3-vJGRVloF5zStxL5I0rSy4ZUPNsjy8?usp=sharing#scrollTo=ci-LpZWhRJoI)를 사용하였다.\n"
      ]
    },
    {
      "cell_type": "code",
      "metadata": {
        "id": "WU7NCZtQ6msa",
        "colab": {
          "base_uri": "https://localhost:8080/"
        },
        "outputId": "377aedfe-77b4-4417-8dde-2602b84c6697"
      },
      "source": [
        "import torch\n",
        "print(\"PyTorch has version {}\".format(torch.__version__))"
      ],
      "execution_count": 54,
      "outputs": [
        {
          "output_type": "stream",
          "name": "stdout",
          "text": [
            "PyTorch has version 1.9.0+cu111\n"
          ]
        }
      ]
    },
    {
      "cell_type": "markdown",
      "metadata": {
        "id": "n7gMjMCT677n"
      },
      "source": [
        "## Installing dependencies\n",
        "\n",
        "PyG를 설치하는 것은 조금 까다로운데, 아래의 셀을 실행해야 한다(10분가량 소요된다). 문제가 발생하거나 더 많은 정보를 얻기 위해서는 다음의 페이지를 참고하자.[PyG's installation page](https://pytorch-geometric.readthedocs.io/en/latest/notes/installation.html). "
      ]
    },
    {
      "cell_type": "code",
      "metadata": {
        "id": "tRNEKu-R66Cw"
      },
      "source": [
        "# Install torch geometric\n",
        "!pip install -q torch-scatter -f https://pytorch-geometric.com/whl/torch-1.7.0+cu101.html\n",
        "!pip install -q torch-sparse -f https://pytorch-geometric.com/whl/torch-1.7.0+cu101.html\n",
        "!pip install -q torch-geometric"
      ],
      "execution_count": 55,
      "outputs": []
    },
    {
      "cell_type": "markdown",
      "metadata": {
        "id": "HLxnaKsN8GVf"
      },
      "source": [
        "## Visualization"
      ]
    },
    {
      "cell_type": "code",
      "metadata": {
        "id": "qywlcjyr8USw"
      },
      "source": [
        "# 시각화를 위한 헬퍼함수를 작성한다.\n",
        "%matplotlib inline\n",
        "import torch\n",
        "import networkx as nx\n",
        "import matplotlib.pyplot as plt\n",
        "\n",
        "# NX와 Pytorch tensor 모두를 시각화 할 수 있는 함수이다.\n",
        "def visualize(h, color, epoch=None, loss=None, accuracy=None):\n",
        "    plt.figure(figsize=(7,7))\n",
        "    plt.xticks([])\n",
        "    plt.yticks([])\n",
        "\n",
        "    # 데이터가 pytorch일 경우\n",
        "    if torch.is_tensor(h):\n",
        "        h = h.detach().cpu().numpy()\n",
        "        plt.scatter(h[:, 0], h[:, 1], s=140, c=color, cmap=\"Set2\")\n",
        "        if epoch is not None and loss is not None and accuracy['train'] is not None and accuracy['val'] is not None:\n",
        "            plt.xlabel((f'Epoch: {epoch}, Loss: {loss.item():.4f} \\n'\n",
        "                       f'Training Accuracy: {accuracy[\"train\"]*100:.2f}% \\n'\n",
        "                       f' Validation Accuracy: {accuracy[\"val\"]*100:.2f}%'),\n",
        "                       fontsize=16)\n",
        "    # 데이터가 NX일 경우\n",
        "    else:\n",
        "        nx.draw_networkx(G, pos=nx.spring_layout(G, seed=42), with_labels=False,\n",
        "                         node_color=color, cmap=\"Set2\")\n",
        "    plt.show()"
      ],
      "execution_count": 56,
      "outputs": []
    },
    {
      "cell_type": "markdown",
      "metadata": {
        "id": "bbny-iTO7NQN"
      },
      "source": [
        "## Introduction\n",
        "\n",
        "최근에 GNN은 DL의 중요한 분야로 급상승 했다. 이번 랩에서는 불규칙한 데이터(이미지나 텍스트가 아닌)를 위한 고전적인 DL을 일반화하고, NN을 이용하여 노드나 엣지와의 관계성을 파악하도록 한다.\n",
        "\n",
        "이 튜토리얼은 PyG에 기반한 기초적인 GNN의 컨셉을 소개한다. PyG는 GNN을 위한 많은 유용한 함수를 가지고 있는 인기있는 라이브러리다. \n",
        "\n",
        "다음의 논문 [Kipf et al. (2017)](https://arxiv.org/abs/1609.02907)과 간단한 그래프 구조의 데이터인 [**Zachary's karate club network**](https://en.wikipedia.org/wiki/Zachary%27s_karate_club)를 참고하여 더 구체적으로 살펴보자. 이 그래프는 34명의 가라데 동아리의 회원과 그들의 관계에 대한 데이터이다.\n",
        "\n",
        "구성원의 상호작용으로 인해 발생한 커뮤니티를 파악해보자."
      ]
    },
    {
      "cell_type": "markdown",
      "metadata": {
        "id": "g3uPffzbyqn9"
      },
      "source": [
        "## Dataset\n",
        "\n",
        "PyG는 간단히 위의 데이터를 받아올 수 있다.\n",
        "\n",
        "[torch_geometric.datasets](https://pytorch-geometric.readthedocs.io/en/latest/modules/datasets.html#torch_geometric.datasets) "
      ]
    },
    {
      "cell_type": "code",
      "metadata": {
        "id": "YrpL9CtS7nx2",
        "colab": {
          "base_uri": "https://localhost:8080/"
        },
        "outputId": "b516fe4b-4cba-4b5c-bc75-dbf1c358ab69"
      },
      "source": [
        "from torch_geometric.datasets import KarateClub\n",
        "\n",
        "dataset = KarateClub()\n",
        "print(f'Dataset: {dataset}:')\n",
        "print('======================')\n",
        "print(f'Number of graphs: {len(dataset)}')\n",
        "print(f'Number of features: {dataset.num_features}')\n",
        "print(f'Number of classes: {dataset.num_classes}')"
      ],
      "execution_count": 57,
      "outputs": [
        {
          "output_type": "stream",
          "name": "stdout",
          "text": [
            "Dataset: KarateClub():\n",
            "======================\n",
            "Number of graphs: 1\n",
            "Number of features: 34\n",
            "Number of classes: 4\n"
          ]
        }
      ]
    },
    {
      "cell_type": "markdown",
      "metadata": {
        "id": "lCeRGa2q7sdl"
      },
      "source": [
        "데이터를 받아오면 이들의 정보를 우선적으로 파악한다. 예를들어 우리는 데이터가 하나의 그래프로 이루어져 있고, 각 노드는 34 차원의 특성 벡터를 갖는다는 것을 알 수 있다. 또한, 그래프는 4개의 클래스를 갖는데 이들은 커뮤니티에 해당한다.\n",
        "\n",
        "아래의 셀에서 확인 하는 방법을 유심히 살펴보자"
      ]
    },
    {
      "cell_type": "code",
      "metadata": {
        "id": "sTLapYhP7uCn",
        "colab": {
          "base_uri": "https://localhost:8080/"
        },
        "outputId": "b7fa0a79-b959-4bc1-eb2d-d71efc3314a2"
      },
      "source": [
        "data = dataset[0]  # 전체 데이터셋 첫번째 데이터를 받아오자.\n",
        "\n",
        "print(data)\n",
        "print('==============================================================')\n",
        "\n",
        "# 그래프에 대한 다양한 통계를 확인하는 방법을 잘 알아두자.\n",
        "print(f'Number of nodes: {data.num_nodes}')\n",
        "print(f'Number of edges: {data.num_edges}')\n",
        "print(f'Average node degree: {(2*data.num_edges) / data.num_nodes:.2f}')\n",
        "print(f'Number of training nodes: {data.train_mask.sum()}')\n",
        "print(f'Training node label rate: {int(data.train_mask.sum()) / data.num_nodes:.2f}')\n",
        "print(f'Contains isolated nodes: {data.has_isolated_nodes()}')\n",
        "print(f'Contains self-loops: {data.has_self_loops()}')\n",
        "print(f'Is undirected: {data.is_undirected()}')"
      ],
      "execution_count": 58,
      "outputs": [
        {
          "output_type": "stream",
          "name": "stdout",
          "text": [
            "Data(x=[34, 34], edge_index=[2, 156], y=[34], train_mask=[34])\n",
            "==============================================================\n",
            "Number of nodes: 34\n",
            "Number of edges: 156\n",
            "Average node degree: 9.18\n",
            "Number of training nodes: 4\n",
            "Training node label rate: 0.12\n",
            "Contains isolated nodes: False\n",
            "Contains self-loops: False\n",
            "Is undirected: True\n"
          ]
        }
      ]
    },
    {
      "cell_type": "code",
      "metadata": {
        "id": "tu7b7G6Ai3D1",
        "colab": {
          "base_uri": "https://localhost:8080/"
        },
        "outputId": "f297840e-c040-4c1e-d8cf-9afc11f21cbd"
      },
      "source": [
        "# 엣지를 모두 출력해보자\n",
        "data.edge_index.T"
      ],
      "execution_count": 59,
      "outputs": [
        {
          "output_type": "execute_result",
          "data": {
            "text/plain": [
              "tensor([[ 0,  1],\n",
              "        [ 0,  2],\n",
              "        [ 0,  3],\n",
              "        [ 0,  4],\n",
              "        [ 0,  5],\n",
              "        [ 0,  6],\n",
              "        [ 0,  7],\n",
              "        [ 0,  8],\n",
              "        [ 0, 10],\n",
              "        [ 0, 11],\n",
              "        [ 0, 12],\n",
              "        [ 0, 13],\n",
              "        [ 0, 17],\n",
              "        [ 0, 19],\n",
              "        [ 0, 21],\n",
              "        [ 0, 31],\n",
              "        [ 1,  0],\n",
              "        [ 1,  2],\n",
              "        [ 1,  3],\n",
              "        [ 1,  7],\n",
              "        [ 1, 13],\n",
              "        [ 1, 17],\n",
              "        [ 1, 19],\n",
              "        [ 1, 21],\n",
              "        [ 1, 30],\n",
              "        [ 2,  0],\n",
              "        [ 2,  1],\n",
              "        [ 2,  3],\n",
              "        [ 2,  7],\n",
              "        [ 2,  8],\n",
              "        [ 2,  9],\n",
              "        [ 2, 13],\n",
              "        [ 2, 27],\n",
              "        [ 2, 28],\n",
              "        [ 2, 32],\n",
              "        [ 3,  0],\n",
              "        [ 3,  1],\n",
              "        [ 3,  2],\n",
              "        [ 3,  7],\n",
              "        [ 3, 12],\n",
              "        [ 3, 13],\n",
              "        [ 4,  0],\n",
              "        [ 4,  6],\n",
              "        [ 4, 10],\n",
              "        [ 5,  0],\n",
              "        [ 5,  6],\n",
              "        [ 5, 10],\n",
              "        [ 5, 16],\n",
              "        [ 6,  0],\n",
              "        [ 6,  4],\n",
              "        [ 6,  5],\n",
              "        [ 6, 16],\n",
              "        [ 7,  0],\n",
              "        [ 7,  1],\n",
              "        [ 7,  2],\n",
              "        [ 7,  3],\n",
              "        [ 8,  0],\n",
              "        [ 8,  2],\n",
              "        [ 8, 30],\n",
              "        [ 8, 32],\n",
              "        [ 8, 33],\n",
              "        [ 9,  2],\n",
              "        [ 9, 33],\n",
              "        [10,  0],\n",
              "        [10,  4],\n",
              "        [10,  5],\n",
              "        [11,  0],\n",
              "        [12,  0],\n",
              "        [12,  3],\n",
              "        [13,  0],\n",
              "        [13,  1],\n",
              "        [13,  2],\n",
              "        [13,  3],\n",
              "        [13, 33],\n",
              "        [14, 32],\n",
              "        [14, 33],\n",
              "        [15, 32],\n",
              "        [15, 33],\n",
              "        [16,  5],\n",
              "        [16,  6],\n",
              "        [17,  0],\n",
              "        [17,  1],\n",
              "        [18, 32],\n",
              "        [18, 33],\n",
              "        [19,  0],\n",
              "        [19,  1],\n",
              "        [19, 33],\n",
              "        [20, 32],\n",
              "        [20, 33],\n",
              "        [21,  0],\n",
              "        [21,  1],\n",
              "        [22, 32],\n",
              "        [22, 33],\n",
              "        [23, 25],\n",
              "        [23, 27],\n",
              "        [23, 29],\n",
              "        [23, 32],\n",
              "        [23, 33],\n",
              "        [24, 25],\n",
              "        [24, 27],\n",
              "        [24, 31],\n",
              "        [25, 23],\n",
              "        [25, 24],\n",
              "        [25, 31],\n",
              "        [26, 29],\n",
              "        [26, 33],\n",
              "        [27,  2],\n",
              "        [27, 23],\n",
              "        [27, 24],\n",
              "        [27, 33],\n",
              "        [28,  2],\n",
              "        [28, 31],\n",
              "        [28, 33],\n",
              "        [29, 23],\n",
              "        [29, 26],\n",
              "        [29, 32],\n",
              "        [29, 33],\n",
              "        [30,  1],\n",
              "        [30,  8],\n",
              "        [30, 32],\n",
              "        [30, 33],\n",
              "        [31,  0],\n",
              "        [31, 24],\n",
              "        [31, 25],\n",
              "        [31, 28],\n",
              "        [31, 32],\n",
              "        [31, 33],\n",
              "        [32,  2],\n",
              "        [32,  8],\n",
              "        [32, 14],\n",
              "        [32, 15],\n",
              "        [32, 18],\n",
              "        [32, 20],\n",
              "        [32, 22],\n",
              "        [32, 23],\n",
              "        [32, 29],\n",
              "        [32, 30],\n",
              "        [32, 31],\n",
              "        [32, 33],\n",
              "        [33,  8],\n",
              "        [33,  9],\n",
              "        [33, 13],\n",
              "        [33, 14],\n",
              "        [33, 15],\n",
              "        [33, 18],\n",
              "        [33, 19],\n",
              "        [33, 20],\n",
              "        [33, 22],\n",
              "        [33, 23],\n",
              "        [33, 26],\n",
              "        [33, 27],\n",
              "        [33, 28],\n",
              "        [33, 29],\n",
              "        [33, 30],\n",
              "        [33, 31],\n",
              "        [33, 32]])"
            ]
          },
          "metadata": {},
          "execution_count": 59
        }
      ]
    },
    {
      "cell_type": "markdown",
      "metadata": {
        "id": "lIzbIoc-y8J4"
      },
      "source": [
        "## Data"
      ]
    },
    {
      "cell_type": "markdown",
      "metadata": {
        "id": "Jb7pq6bD0LtO"
      },
      "source": [
        "각 그래프는 PyG의 그래프를 표현하기 위한 모든 정보를 가진 Data 클래스의 오브젝트이다. 우리는  간단히 출력을 통해서 언제든 이들의 요약된 정보를 확인할 수 있다.\n",
        "\n",
        "데이터 오브젝트는 아래 4가지의 요소을 가진다.\n",
        "* edge_index: 그래프의 연결 관계를 보여준다. \n",
        "* node_features: 노드의 개별 feature vector를 보여준다.(여기서는 각 노드가 34차원의 feature vector를 갖는다)\n",
        "* node_labels: 각 노드의 label을 가진다.\n",
        "* train_mask: 훈련시 사용할 노드와 사용하지 않을 노드를 분류하기 위한 정보를 가진다.\n",
        "\n",
        "또한, data 오브젝트는 유용한 함수들을 제공하는데, isolated node, self-loop 등을 확인할 수 있다.\n"
      ]
    },
    {
      "cell_type": "code",
      "metadata": {
        "colab": {
          "base_uri": "https://localhost:8080/"
        },
        "id": "2WBDduWreQNQ",
        "outputId": "1ec0ce68-3f00-47aa-c917-366137f913b9"
      },
      "source": [
        "print(data)"
      ],
      "execution_count": 60,
      "outputs": [
        {
          "output_type": "stream",
          "name": "stdout",
          "text": [
            "Data(x=[34, 34], edge_index=[2, 156], y=[34], train_mask=[34])\n"
          ]
        }
      ]
    },
    {
      "cell_type": "markdown",
      "metadata": {
        "id": "nLLsT0ROzffp"
      },
      "source": [
        "## Edge Index"
      ]
    },
    {
      "cell_type": "markdown",
      "metadata": {
        "id": "svWvpFyZeXfm"
      },
      "source": [
        "엣지를 확인할 수도 있다."
      ]
    },
    {
      "cell_type": "code",
      "metadata": {
        "id": "iFA6Xi4O79r0",
        "colab": {
          "base_uri": "https://localhost:8080/",
          "height": 300
        },
        "outputId": "d45a2b1c-6231-4037-ce0f-7187f6864702"
      },
      "source": [
        "from IPython.display import Javascript  # Restrict height of output cell.\n",
        "display(Javascript('''google.colab.output.setIframeHeight(0, true, {maxHeight: 300})'''))\n",
        "\n",
        "edge_index = data.edge_index\n",
        "print(edge_index.t())"
      ],
      "execution_count": 61,
      "outputs": [
        {
          "output_type": "display_data",
          "data": {
            "application/javascript": [
              "google.colab.output.setIframeHeight(0, true, {maxHeight: 300})"
            ],
            "text/plain": [
              "<IPython.core.display.Javascript object>"
            ]
          },
          "metadata": {}
        },
        {
          "output_type": "stream",
          "name": "stdout",
          "text": [
            "tensor([[ 0,  1],\n",
            "        [ 0,  2],\n",
            "        [ 0,  3],\n",
            "        [ 0,  4],\n",
            "        [ 0,  5],\n",
            "        [ 0,  6],\n",
            "        [ 0,  7],\n",
            "        [ 0,  8],\n",
            "        [ 0, 10],\n",
            "        [ 0, 11],\n",
            "        [ 0, 12],\n",
            "        [ 0, 13],\n",
            "        [ 0, 17],\n",
            "        [ 0, 19],\n",
            "        [ 0, 21],\n",
            "        [ 0, 31],\n",
            "        [ 1,  0],\n",
            "        [ 1,  2],\n",
            "        [ 1,  3],\n",
            "        [ 1,  7],\n",
            "        [ 1, 13],\n",
            "        [ 1, 17],\n",
            "        [ 1, 19],\n",
            "        [ 1, 21],\n",
            "        [ 1, 30],\n",
            "        [ 2,  0],\n",
            "        [ 2,  1],\n",
            "        [ 2,  3],\n",
            "        [ 2,  7],\n",
            "        [ 2,  8],\n",
            "        [ 2,  9],\n",
            "        [ 2, 13],\n",
            "        [ 2, 27],\n",
            "        [ 2, 28],\n",
            "        [ 2, 32],\n",
            "        [ 3,  0],\n",
            "        [ 3,  1],\n",
            "        [ 3,  2],\n",
            "        [ 3,  7],\n",
            "        [ 3, 12],\n",
            "        [ 3, 13],\n",
            "        [ 4,  0],\n",
            "        [ 4,  6],\n",
            "        [ 4, 10],\n",
            "        [ 5,  0],\n",
            "        [ 5,  6],\n",
            "        [ 5, 10],\n",
            "        [ 5, 16],\n",
            "        [ 6,  0],\n",
            "        [ 6,  4],\n",
            "        [ 6,  5],\n",
            "        [ 6, 16],\n",
            "        [ 7,  0],\n",
            "        [ 7,  1],\n",
            "        [ 7,  2],\n",
            "        [ 7,  3],\n",
            "        [ 8,  0],\n",
            "        [ 8,  2],\n",
            "        [ 8, 30],\n",
            "        [ 8, 32],\n",
            "        [ 8, 33],\n",
            "        [ 9,  2],\n",
            "        [ 9, 33],\n",
            "        [10,  0],\n",
            "        [10,  4],\n",
            "        [10,  5],\n",
            "        [11,  0],\n",
            "        [12,  0],\n",
            "        [12,  3],\n",
            "        [13,  0],\n",
            "        [13,  1],\n",
            "        [13,  2],\n",
            "        [13,  3],\n",
            "        [13, 33],\n",
            "        [14, 32],\n",
            "        [14, 33],\n",
            "        [15, 32],\n",
            "        [15, 33],\n",
            "        [16,  5],\n",
            "        [16,  6],\n",
            "        [17,  0],\n",
            "        [17,  1],\n",
            "        [18, 32],\n",
            "        [18, 33],\n",
            "        [19,  0],\n",
            "        [19,  1],\n",
            "        [19, 33],\n",
            "        [20, 32],\n",
            "        [20, 33],\n",
            "        [21,  0],\n",
            "        [21,  1],\n",
            "        [22, 32],\n",
            "        [22, 33],\n",
            "        [23, 25],\n",
            "        [23, 27],\n",
            "        [23, 29],\n",
            "        [23, 32],\n",
            "        [23, 33],\n",
            "        [24, 25],\n",
            "        [24, 27],\n",
            "        [24, 31],\n",
            "        [25, 23],\n",
            "        [25, 24],\n",
            "        [25, 31],\n",
            "        [26, 29],\n",
            "        [26, 33],\n",
            "        [27,  2],\n",
            "        [27, 23],\n",
            "        [27, 24],\n",
            "        [27, 33],\n",
            "        [28,  2],\n",
            "        [28, 31],\n",
            "        [28, 33],\n",
            "        [29, 23],\n",
            "        [29, 26],\n",
            "        [29, 32],\n",
            "        [29, 33],\n",
            "        [30,  1],\n",
            "        [30,  8],\n",
            "        [30, 32],\n",
            "        [30, 33],\n",
            "        [31,  0],\n",
            "        [31, 24],\n",
            "        [31, 25],\n",
            "        [31, 28],\n",
            "        [31, 32],\n",
            "        [31, 33],\n",
            "        [32,  2],\n",
            "        [32,  8],\n",
            "        [32, 14],\n",
            "        [32, 15],\n",
            "        [32, 18],\n",
            "        [32, 20],\n",
            "        [32, 22],\n",
            "        [32, 23],\n",
            "        [32, 29],\n",
            "        [32, 30],\n",
            "        [32, 31],\n",
            "        [32, 33],\n",
            "        [33,  8],\n",
            "        [33,  9],\n",
            "        [33, 13],\n",
            "        [33, 14],\n",
            "        [33, 15],\n",
            "        [33, 18],\n",
            "        [33, 19],\n",
            "        [33, 20],\n",
            "        [33, 22],\n",
            "        [33, 23],\n",
            "        [33, 26],\n",
            "        [33, 27],\n",
            "        [33, 28],\n",
            "        [33, 29],\n",
            "        [33, 30],\n",
            "        [33, 31],\n",
            "        [33, 32]])\n"
          ]
        }
      ]
    },
    {
      "cell_type": "markdown",
      "metadata": {
        "id": "hfPO3GVEAbaG"
      },
      "source": [
        "각 엣지는 2개의 노드를 가진 튜플로 이뤄지는데, 첫번째는 출발 지점이고 두번째는 도착 노드이다. \n",
        "\n",
        "이러한 표현은 COO(coordinate) format으로 알려져 있고, sparse matrices를 표현하기 위해서 사용된다. 그리고 이것은 networkx형태로 바꾸어 시각화할 수 있다."
      ]
    },
    {
      "cell_type": "code",
      "metadata": {
        "id": "3KfJHtlV8h3W",
        "colab": {
          "base_uri": "https://localhost:8080/",
          "height": 411
        },
        "outputId": "19710268-e612-4351-d5ae-c15af1ab8d53"
      },
      "source": [
        "from torch_geometric.utils import to_networkx\n",
        "\n",
        "G = to_networkx(data, to_undirected=True)\n",
        "visualize(G, color=data.y)"
      ],
      "execution_count": 62,
      "outputs": [
        {
          "output_type": "display_data",
          "data": {
            "image/png": "[encoded data removed]",
            "text/plain": [
              "<Figure size 504x504 with 1 Axes>"
            ]
          },
          "metadata": {}
        }
      ]
    },
    {
      "cell_type": "markdown",
      "metadata": {
        "id": "bg-2V-5-C0x_"
      },
      "source": [
        "그리고 이제 우리는 첫번쨰 GNN모델을 만든다. 이 모델의 기본 구성요소로 GCN layer를  사용하고, PyG는 이미 GCNConv로 구현되어있다. 이것은 node feature representation x와 COO graph의 연결 표현인 edge_index를 사용한다.\n",
        "\n",
        "GNN의 input은 \n",
        "* Graph($G = (\\mathcal{V}, \\mathcal{E})$)\n",
        "* Node($v_i \\in \\mathcal{V}$)\n",
        "* Feature Vector($X_i^{(0)}$)\n",
        "\n",
        "위의 3가지이다. 이때 함수 $f \\to \\mathcal{V} \\times \\mathcal{R}^d$를 학습하면, 우리의 downstream task에 따라서 다양한 형태의 아웃풋을 얻을 수 있다. 그리고 이들을 이용하여 다양한 예측을 수행할  수 있다.\n",
        "\n",
        "여기서는 각 노드의 community 분류를 한다."
      ]
    },
    {
      "cell_type": "code",
      "metadata": {
        "colab": {
          "base_uri": "https://localhost:8080/"
        },
        "id": "2Cf2iSbjoPc-",
        "outputId": "37e60c6f-23bd-450e-b96c-b207ef1142d0"
      },
      "source": [
        "import torch\n",
        "from torch.nn import Linear\n",
        "from torch_geometric.nn import GCNConv\n",
        "\n",
        "\n",
        "class GCN(torch.nn.Module):\n",
        "    def __init__(self):\n",
        "        super(GCN, self).__init__()\n",
        "        torch.manual_seed(1234)\n",
        "        self.conv1 = GCNConv(dataset.num_features, 4)\n",
        "        self.conv2 = GCNConv(4, 4)\n",
        "        self.conv3 = GCNConv(4, 2)\n",
        "        self.classifier = Linear(2, dataset.num_classes)\n",
        "\n",
        "    def forward(self, x, edge_index):\n",
        "        h = self.conv1(x, edge_index)\n",
        "        h = h.tanh()\n",
        "        h = self.conv2(h, edge_index)\n",
        "        h = h.tanh()\n",
        "        h = self.conv3(h, edge_index)\n",
        "        h = h.tanh()  # Final GNN embedding space.\n",
        "        \n",
        "        # Apply a final (linear) classifier.\n",
        "        out = self.classifier(h)\n",
        "\n",
        "        return out, h\n",
        "\n",
        "model = GCN()\n",
        "print(model)"
      ],
      "execution_count": 70,
      "outputs": [
        {
          "output_type": "stream",
          "name": "stdout",
          "text": [
            "GCN(\n",
            "  (conv1): GCNConv(34, 4)\n",
            "  (conv2): GCNConv(4, 4)\n",
            "  (conv3): GCNConv(4, 2)\n",
            "  (classifier): Linear(in_features=2, out_features=4, bias=True)\n",
            ")\n"
          ]
        }
      ]
    },
    {
      "cell_type": "markdown",
      "metadata": {
        "id": "RC84D5JdElll"
      },
      "source": [
        "우선 우리는 모델을 위한 building block을 init메서드에서 정의를 하고, 이때 정의되는 각각의 gcn layer는 1-hop의 이웃의 정보를 합치는 것에 해당한다. 이들을 구성할 때에, 3-hop의 이웃의 정보를 합치는 것이 목표이므로 3개의 layer를 정의한다.\n",
        "\n",
        "추가로, GCNConv 층은 node feature벡터의 차원을 2로 줄인다(34 -> 4 -> 4 -> 2). 각 레이어는 tanh의 비선형 활성화 함수를 사용한다.\n",
        "\n",
        "이 과정이 끝나면 하나의 선형 변환(torch.nn.Linear)층을 통해서 노드를 4개의 클래스에 해당하는 값으로 매핑한다.\n",
        "\n",
        "우리는 결과로부터 최종적인 노드 임베딩을 얻는다. "
      ]
    },
    {
      "cell_type": "code",
      "metadata": {
        "id": "48uhs_0j9AMX",
        "colab": {
          "base_uri": "https://localhost:8080/",
          "height": 432
        },
        "outputId": "29ae6e8d-578d-4982-9f86-a1b0dd25b007"
      },
      "source": [
        "model = GCN()\n",
        "\n",
        "_, h = model(data.x, data.edge_index)\n",
        "print(f'Embedding shape: {list(h.shape)}')\n",
        "\n",
        "visualize(h, color=data.y)"
      ],
      "execution_count": 71,
      "outputs": [
        {
          "output_type": "stream",
          "name": "stdout",
          "text": [
            "Embedding shape: [34, 2]\n"
          ]
        },
        {
          "output_type": "display_data",
          "data": {
            "image/png": "[encoded data removed]",
            "text/plain": [
              "<Figure size 504x504 with 1 Axes>"
            ]
          },
          "metadata": {}
        }
      ]
    },
    {
      "cell_type": "markdown",
      "metadata": {
        "id": "NIDbBxLHFzFH"
      },
      "source": [
        "놀랍게도, 모델의 가중치를 훈련하기 전에도 모델은 그래프의 커뮤니티 구조와 매우 유사한 노드의 임베딩을 생성한다. \n",
        "\n",
        "모델의 가중치가 무작위로 완전히 초기화되었고 지금까지 어떠한 훈련도 수행하지 않았지만, 동일한 색상(커뮤니티)의 노드들은 이미 밀접하게 모여 있다\n",
        "\n",
        "이는 GNN이 강력한 inductive bias를 도입하여 입력 그래프에서 서로 가까운 노드에 대해 유사한 임베딩으로 이어진다는 결론으로 이어진다."
      ]
    },
    {
      "cell_type": "markdown",
      "metadata": {
        "id": "MTNYPuDaHaY3"
      },
      "source": [
        "# Train\n",
        "\n",
        "모델의 모든 것이 차별화 및 매개 변수화 가능하기 때문에 일부 레이블을 추가하고 모델을 교육하며 임베딩이 어떻게 반응하는지 관찰할 수 있다. 여기서 우리는 준지도 또는 전이 학습을 사용한다. 클래스당 하나의 노드에 대해 간단히 훈련하지만 완전한 입력 그래프 데이터를 사용할 수 있다."
      ]
    },
    {
      "cell_type": "code",
      "metadata": {
        "id": "FI3DETGi9ND6",
        "colab": {
          "base_uri": "https://localhost:8080/",
          "height": 1000
        },
        "outputId": "d5ba21f1-3f16-425e-98a5-e2a2fe3e79b3"
      },
      "source": [
        "import time\n",
        "\n",
        "model = GCN()\n",
        "criterion = torch.nn.CrossEntropyLoss()  # loss를 크로스 엔트로피로 정의.\n",
        "optimizer = torch.optim.Adam(model.parameters(), lr=0.01)  # 옵티마이저를 adam이용.\n",
        "\n",
        "def train(data):\n",
        "    optimizer.zero_grad()  # 그래디언트 초기화.\n",
        "    out, h = model(data.x, data.edge_index)  # single forward.\n",
        "    loss = criterion(out[data.train_mask], data.y[data.train_mask])  # 훈련 노드를 기반으로 loss 계산.\n",
        "    loss.backward()  # 그래디언트의 계산.\n",
        "    optimizer.step()  # 가중치 업데이트.\n",
        "\n",
        "    accuracy = {}\n",
        "    # training accuracy 정확도를 4개의 examples를 이용하여 계산\n",
        "    predicted_classes = torch.argmax(out[data.train_mask], axis=1) # [0.6, 0.2, 0.7, 0.1] -> 2\n",
        "    target_classes = data.y[data.train_mask]\n",
        "    accuracy['train'] = torch.mean(\n",
        "        torch.where(predicted_classes == target_classes, 1, 0).float())\n",
        "    \n",
        "    # validation accuracy를 전체 그래프를 이용하여 계산\n",
        "    predicted_classes = torch.argmax(out, axis=1)\n",
        "    target_classes = data.y\n",
        "    accuracy['val'] = torch.mean(\n",
        "        torch.where(predicted_classes == target_classes, 1, 0).float())\n",
        "\n",
        "    return loss, h, accuracy\n",
        "\n",
        "for epoch in range(500):\n",
        "    loss, h, accuracy = train(data)\n",
        "    # 10epochs마다 임베딩 시각화\n",
        "    if epoch % 100 == 0:\n",
        "        visualize(h, color=data.y, epoch=epoch, loss=loss, accuracy=accuracy)\n",
        "        time.sleep(0.3)"
      ],
      "execution_count": 73,
      "outputs": [
        {
          "output_type": "display_data",
          "data": {
            "image/png": "[encoded data removed]",
            "text/plain": [
              "<Figure size 504x504 with 1 Axes>"
            ]
          },
          "metadata": {}
        },
        {
          "output_type": "display_data",
          "data": {
            "image/png": "[encoded data removed]",
            "text/plain": [
              "<Figure size 504x504 with 1 Axes>"
            ]
          },
          "metadata": {}
        },
        {
          "output_type": "display_data",
          "data": {
            "image/png": "[encoded data removed]",
            "text/plain": [
              "<Figure size 504x504 with 1 Axes>"
            ]
          },
          "metadata": {}
        },
        {
          "output_type": "display_data",
          "data": {
            "image/png": "[encoded data removed]",
            "text/plain": [
              "<Figure size 504x504 with 1 Axes>"
            ]
          },
          "metadata": {}
        },
        {
          "output_type": "display_data",
          "data": {
            "image/png": "[encoded data removed]",
            "text/plain": [
              "<Figure size 504x504 with 1 Axes>"
            ]
          },
          "metadata": {}
        }
      ]
    },
    {
      "cell_type": "markdown",
      "metadata": {
        "id": "E9bELRjibIRO"
      },
      "source": [
        "## Documentation\n",
        "\n"
      ]
    },
    {
      "cell_type": "markdown",
      "metadata": {
        "id": "OmqyWVNObNcK"
      },
      "source": [
        "더 자세한 내용에 대해서는 다음의 문서를 참고하자. [documentation](https://pytorch-geometric.readthedocs.io/en/latest/)."
      ]
    },
    {
      "cell_type": "code",
      "metadata": {
        "id": "eQF47qhzLNVd"
      },
      "source": [
        ""
      ],
      "execution_count": null,
      "outputs": []
    }
  ]
}